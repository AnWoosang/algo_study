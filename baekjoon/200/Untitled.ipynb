{
 "cells": [
  {
   "cell_type": "markdown",
   "id": "d17b130e-60d7-484a-94fa-e4f3117378ac",
   "metadata": {},
   "source": [
    "1406번 : 에디터\n"
   ]
  },
  {
   "cell_type": "code",
   "execution_count": 40,
   "id": "bdec4415-79b1-4db9-966c-5d2151f6cc81",
   "metadata": {},
   "outputs": [
    {
     "ename": "ValueError",
     "evalue": "invalid literal for int() with base 10: ''",
     "output_type": "error",
     "traceback": [
      "\u001b[1;31m---------------------------------------------------------------------------\u001b[0m",
      "\u001b[1;31mValueError\u001b[0m                                Traceback (most recent call last)",
      "\u001b[1;32m<ipython-input-40-b975897afece>\u001b[0m in \u001b[0;36m<module>\u001b[1;34m\u001b[0m\n\u001b[0;32m      6\u001b[0m \u001b[1;33m\u001b[0m\u001b[0m\n\u001b[0;32m      7\u001b[0m \u001b[0mcommand_num\u001b[0m \u001b[1;33m=\u001b[0m \u001b[0msys\u001b[0m\u001b[1;33m.\u001b[0m\u001b[0mstdin\u001b[0m\u001b[1;33m.\u001b[0m\u001b[0mreadline\u001b[0m\u001b[1;33m(\u001b[0m\u001b[1;33m)\u001b[0m\u001b[1;33m.\u001b[0m\u001b[0mrstrip\u001b[0m\u001b[1;33m(\u001b[0m\u001b[1;33m)\u001b[0m\u001b[1;33m\u001b[0m\u001b[1;33m\u001b[0m\u001b[0m\n\u001b[1;32m----> 8\u001b[1;33m \u001b[0mcommand_num\u001b[0m \u001b[1;33m=\u001b[0m \u001b[0mint\u001b[0m\u001b[1;33m(\u001b[0m\u001b[0mcommand_num\u001b[0m\u001b[1;33m)\u001b[0m\u001b[1;33m\u001b[0m\u001b[1;33m\u001b[0m\u001b[0m\n\u001b[0m\u001b[0;32m      9\u001b[0m \u001b[1;33m\u001b[0m\u001b[0m\n\u001b[0;32m     10\u001b[0m \u001b[1;32mfor\u001b[0m \u001b[0mi\u001b[0m \u001b[1;32min\u001b[0m \u001b[0mrange\u001b[0m\u001b[1;33m(\u001b[0m\u001b[0mcommand_num\u001b[0m\u001b[1;33m)\u001b[0m\u001b[1;33m:\u001b[0m\u001b[1;33m\u001b[0m\u001b[1;33m\u001b[0m\u001b[0m\n",
      "\u001b[1;31mValueError\u001b[0m: invalid literal for int() with base 10: ''"
     ]
    }
   ],
   "source": [
    "import sys\n",
    "\n",
    "s = sys.stdin.readline()\n",
    "s_to_list = list(s)\n",
    "cursor = len(s_to_list) - 1\n",
    "\n",
    "command_num = int(sys.stdin.readline())\n",
    "command_num = int(command_num)\n",
    "\n",
    "for i in range(command_num):\n",
    "    command = sys.stdin.readline().split()\n",
    "    \n",
    "    if command[0] == 'B':\n",
    "        if cursor >= 0:\n",
    "            s_to_list.pop(cursor)\n",
    "            cursor -= 1\n",
    "            \n",
    "    elif command[0] == 'L':\n",
    "        if cursor >= 0:\n",
    "            cursor -= 1\n",
    "\n",
    "    elif command[0] == 'D':\n",
    "        if cursor < len(s_to_list) - 1:\n",
    "            cursor += 1\n",
    "    \n",
    "    elif command[0] == 'P':\n",
    "        if cursor == len(s_to_list) - 1:\n",
    "            cursor += 1\n",
    "            s_to_list.append(command[1])\n",
    "                \n",
    "        else:\n",
    "            cursor += 1\n",
    "            s_to_list.insert(cursor, command[1])\n",
    "\n",
    "s = s_to_list.join()"
   ]
  },
  {
   "cell_type": "code",
   "execution_count": 45,
   "id": "3622153b-b4d7-44e4-8093-427a1053fc26",
   "metadata": {},
   "outputs": [],
   "source": []
  },
  {
   "cell_type": "code",
   "execution_count": 21,
   "id": "342bd55c-dfa4-4b25-84c3-793ad73ce1c0",
   "metadata": {},
   "outputs": [
    {
     "data": {
      "text/plain": [
       "['b', 'a', 'b', 'c']"
      ]
     },
     "execution_count": 21,
     "metadata": {},
     "output_type": "execute_result"
    }
   ],
   "source": [
    "s = \"abc\"\n",
    "s = list(s)\n",
    "s.insert(0, \"b\")\n",
    "s"
   ]
  },
  {
   "cell_type": "code",
   "execution_count": null,
   "id": "2955d2a2-7fc0-48f1-a4b0-42f0d675add8",
   "metadata": {},
   "outputs": [],
   "source": []
  }
 ],
 "metadata": {
  "kernelspec": {
   "display_name": "Python 3",
   "language": "python",
   "name": "python3"
  },
  "language_info": {
   "codemirror_mode": {
    "name": "ipython",
    "version": 3
   },
   "file_extension": ".py",
   "mimetype": "text/x-python",
   "name": "python",
   "nbconvert_exporter": "python",
   "pygments_lexer": "ipython3",
   "version": "3.8.8"
  }
 },
 "nbformat": 4,
 "nbformat_minor": 5
}
